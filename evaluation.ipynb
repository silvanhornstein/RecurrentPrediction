{
 "cells": [
  {
   "cell_type": "code",
   "execution_count": null,
   "id": "6d2a46fa",
   "metadata": {},
   "outputs": [],
   "source": [
    "import pandas as pd\n",
    "import numpy as np\n",
    "from sklearn.pipeline import Pipeline\n",
    "from sklearn.feature_extraction.text import TfidfVectorizer\n",
    "from sklearn.compose import ColumnTransformer\n",
    "from xgboost import XGBClassifier\n",
    "from sklearn.metrics import roc_auc_score, accuracy_score, balanced_accuracy_score\n",
    "import matplotlib.pyplot as plt\n",
    "from sklearn.metrics import confusion_matrix, ConfusionMatrixDisplay"
   ]
  },
  {
   "cell_type": "code",
   "execution_count": null,
   "id": "aaf9f91e",
   "metadata": {},
   "outputs": [],
   "source": [
    "#Data Import, train-testsplit and Outcome.\n",
    "data = pd.read_csv(\"anonymized_data_final_sep.csv\")\n",
    "data[\"recc\"] = np.where(data.timediff <= 188, 1, 0)\n",
    "traindata = data[data.train==\"train\"]\n",
    "testdata = data[data.train==\"test\"]"
   ]
  },
  {
   "cell_type": "code",
   "execution_count": null,
   "id": "d2c3958d",
   "metadata": {},
   "outputs": [],
   "source": [
    "#Train the model using the tuned hyperparameters\n",
    "\n",
    "column_transformer = ColumnTransformer(([('tfidf1', TfidfVectorizer(max_df=0.8, \n",
    "                                                                    min_df=150, \n",
    "                                                                    use_idf=False), \n",
    "                                                                    'body_chat'),\n",
    "                                         ('tfidf2', TfidfVectorizer(max_df=0.3, \n",
    "                                                                    min_df=75, \n",
    "                                                                    use_idf=False), \n",
    "                                                                    'body_couns')]), \n",
    "                                         remainder=\"passthrough\")\n",
    "\n",
    "pipeline = Pipeline(steps = [['transf', column_transformer],\n",
    "                             ['classifier', XGBClassifier(colsample_bytree=0.9, \n",
    "                                                          eta=0.05, \n",
    "                                                          gamma=1.5, \n",
    "                                                          max_depth=8, \n",
    "                                                          min_child_weight=20,\n",
    "                                                          subsample=0.6)]])\n",
    "\n",
    "X = traindata[[\"body_couns\", \"body_chat\"]]\n",
    "y = traindata[\"recc\"]\n",
    "\n",
    "pipeline.fit(X, y)"
   ]
  },
  {
   "cell_type": "code",
   "execution_count": null,
   "id": "fd0d2223",
   "metadata": {},
   "outputs": [],
   "source": [
    "#Calculate AUROC score, balanced accuracy, and accuracy score on the test dataset\n",
    "\n",
    "preds = pipeline.predict_proba(testdata[[\"body_couns\", \"body_chat\"]])\n",
    "roc_auc_score(testdata[\"recc\"], preds[:, 1])\n",
    "balanced_accuracy_score(testdata[\"recc\"], np.where(preds[:,1]>0.5, 1, 0))\n",
    "accuracy_score(testdata[\"recc\"], np.where(preds[:,1]>0.5, 1, 0))"
   ]
  },
  {
   "cell_type": "code",
   "execution_count": null,
   "id": "1b5a5dab",
   "metadata": {},
   "outputs": [],
   "source": [
    "#Plot the confusion matrix\n",
    "\n",
    "cm = confusion_matrix(testdata[\"recc\"],  np.where(preds[:,1]>0.5, 1, 0))\n",
    "class_labels = [\"No Recurrence\", \"Recurrence\"]\n",
    "\n",
    "disp = ConfusionMatrixDisplay(confusion_matrix=cm, display_labels=class_labels)\n",
    "disp.plot(cmap=plt.cm.Blues,  colorbar=False)\n",
    "plt.show()"
   ]
  },
  {
   "cell_type": "code",
   "execution_count": null,
   "id": "5e168529",
   "metadata": {},
   "outputs": [],
   "source": [
    "#Permutation test for AUROC metric (see utils.py for the function definition)\n",
    "\n",
    "from utils import permutation_metric\n",
    "\n",
    "\n",
    "auroc_, pval = permutation_metric(testdata[\"recc\"], \n",
    "                                  preds[:, 1], \n",
    "                                  roc_auc_score,\n",
    "                                  side='right', \n",
    "                                  n=5000)"
   ]
  }
 ],
 "metadata": {
  "kernelspec": {
   "display_name": "Python 3 (ipykernel)",
   "language": "python",
   "name": "python3"
  },
  "language_info": {
   "codemirror_mode": {
    "name": "ipython",
    "version": 3
   },
   "file_extension": ".py",
   "mimetype": "text/x-python",
   "name": "python",
   "nbconvert_exporter": "python",
   "pygments_lexer": "ipython3",
   "version": "3.9.13"
  }
 },
 "nbformat": 4,
 "nbformat_minor": 5
}
